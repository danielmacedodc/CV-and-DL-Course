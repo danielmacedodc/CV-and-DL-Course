{
 "cells": [
  {
   "cell_type": "markdown",
   "id": "ea7f2c3e-72ec-4f6f-95fa-7e553e1078fb",
   "metadata": {},
   "source": [
    "# **NLP Project**\n",
    "\n",
    "In this project, it will be used the deep learning model from the paper [Neural Networks for Joint Sentence Classification in Medical Paper Abstracts](https://arxiv.org/pdf/1612.05251.pdf), by replicating the paper [PubMed 200k RCT: a Dataset for Sequential Sentence Classification in Medical Abstracts](https://arxiv.org/abs/1710.06071). */Cheers for the authors. Outstanding job!/*\n",
    "\n",
    "The goal of the dataset was to explore the ability for NLP models to classify sentences which appear in sequential order.\n",
    "\n",
    "In this way, we shall create an NLP model to classify abstract sentences into the role they play (e.g. objective, methods, results, etc) to enable researchers to skim through the literature (hence SkimLit 🤓🔥) and dive deeper when necessary.\n",
    "\n",
    "I'd like to thank **Mr. Daniel Bourke** for helping with this project."
   ]
  },
  {
   "cell_type": "markdown",
   "id": "81bcc86c-61fa-46a7-a057-b67aa604978b",
   "metadata": {},
   "source": [
    "## Loading Libraries "
   ]
  },
  {
   "cell_type": "code",
   "execution_count": 62,
   "id": "67fa3adb-b919-4721-a6e7-ff6732119000",
   "metadata": {},
   "outputs": [],
   "source": [
    "import numpy as np\n",
    "import pandas as pd\n",
    "import matplotlib.pyplot as plt\n",
    "%matplotlib inline\n",
    "\n",
    "import tensorflow as tf\n",
    "from tensorflow.keras import layers\n",
    "import tensorflow_hub as hub\n",
    "\n",
    "import random\n",
    "import os\n",
    "import time\n",
    "import help_me"
   ]
  },
  {
   "cell_type": "markdown",
   "id": "5c363dac-0512-44db-9a7e-5b0cfdcc7d16",
   "metadata": {},
   "source": [
    "## Confirm Access to GPU"
   ]
  },
  {
   "cell_type": "code",
   "execution_count": 1,
   "id": "7619695e-3bf4-431f-87cd-828d13a1b4a5",
   "metadata": {},
   "outputs": [],
   "source": [
    "# !nvidia-smi -L"
   ]
  },
  {
   "cell_type": "markdown",
   "id": "268e8c63-9ff7-4b6b-a52d-8efc78d3f279",
   "metadata": {},
   "source": [
    "## Get Data\n",
    "\n",
    "Getting the data from the [Github repository](https://github.com/Franck-Dernoncourt/pubmed-rct.git)."
   ]
  },
  {
   "cell_type": "code",
   "execution_count": 3,
   "id": "3b1ad894-a0a6-429e-a487-4a77f1117fd2",
   "metadata": {
    "scrolled": true,
    "tags": []
   },
   "outputs": [
    {
     "name": "stdout",
     "output_type": "stream",
     "text": [
      "There are 5 directories and 1 files in 'pubmed-rct/'.\n",
      "There are 5 directories and 5 files in 'pubmed-rct/.git'.\n",
      "There are 0 directories and 13 files in 'pubmed-rct/.git\\hooks'.\n",
      "There are 0 directories and 1 files in 'pubmed-rct/.git\\info'.\n",
      "There are 1 directories and 1 files in 'pubmed-rct/.git\\logs'.\n",
      "There are 2 directories and 0 files in 'pubmed-rct/.git\\logs\\refs'.\n",
      "There are 0 directories and 1 files in 'pubmed-rct/.git\\logs\\refs\\heads'.\n",
      "There are 1 directories and 0 files in 'pubmed-rct/.git\\logs\\refs\\remotes'.\n",
      "There are 0 directories and 1 files in 'pubmed-rct/.git\\logs\\refs\\remotes\\origin'.\n",
      "There are 2 directories and 0 files in 'pubmed-rct/.git\\objects'.\n",
      "There are 0 directories and 0 files in 'pubmed-rct/.git\\objects\\info'.\n",
      "There are 0 directories and 2 files in 'pubmed-rct/.git\\objects\\pack'.\n",
      "There are 3 directories and 0 files in 'pubmed-rct/.git\\refs'.\n",
      "There are 0 directories and 1 files in 'pubmed-rct/.git\\refs\\heads'.\n",
      "There are 1 directories and 0 files in 'pubmed-rct/.git\\refs\\remotes'.\n",
      "There are 0 directories and 1 files in 'pubmed-rct/.git\\refs\\remotes\\origin'.\n",
      "There are 0 directories and 0 files in 'pubmed-rct/.git\\refs\\tags'.\n",
      "There are 0 directories and 3 files in 'pubmed-rct/PubMed_200k_RCT'.\n",
      "There are 0 directories and 3 files in 'pubmed-rct/PubMed_200k_RCT_numbers_replaced_with_at_sign'.\n",
      "There are 0 directories and 3 files in 'pubmed-rct/PubMed_20k_RCT'.\n",
      "There are 0 directories and 3 files in 'pubmed-rct/PubMed_20k_RCT_numbers_replaced_with_at_sign'.\n"
     ]
    }
   ],
   "source": [
    "# !git clone https://github.com/Franck-Dernoncourt/pubmed-rct.git\n",
    "for dirpath, dirnames, filenames in os.walk('pubmed-rct/'):\n",
    "    print(f\"There are {len(dirnames)} directories and {len(filenames)} files in '{dirpath}'.\")"
   ]
  },
  {
   "cell_type": "code",
   "execution_count": 4,
   "id": "db78684e-abd3-4cb5-8a9e-72b87e0a1491",
   "metadata": {},
   "outputs": [
    {
     "name": "stdout",
     "output_type": "stream",
     "text": [
      "Files: ['dev.txt', 'test.txt', 'train.txt']\n"
     ]
    }
   ],
   "source": [
    "# Checking the files in the PubMed_20K dataset\n",
    "for _, _, filename in os.walk('pubmed-rct/PubMed_20k_RCT_numbers_replaced_with_at_sign/'):\n",
    "    print(f\"Files: {filename}\")"
   ]
  },
  {
   "cell_type": "code",
   "execution_count": 5,
   "id": "da6be3a8-ebd0-4710-be55-7196dbde264f",
   "metadata": {},
   "outputs": [],
   "source": [
    "# Starting the experiments using the 20k dataset with numbers replaced by '@ sign\n",
    "data_dir = 'pubmed-rct/PubMed_20k_RCT_numbers_replaced_with_at_sign/'"
   ]
  },
  {
   "cell_type": "code",
   "execution_count": 6,
   "id": "d0527277-b84b-4465-a885-ad05bcb5b5ce",
   "metadata": {},
   "outputs": [
    {
     "data": {
      "text/plain": [
       "['pubmed-rct/PubMed_20k_RCT_numbers_replaced_with_at_sign/dev.txt',\n",
       " 'pubmed-rct/PubMed_20k_RCT_numbers_replaced_with_at_sign/test.txt',\n",
       " 'pubmed-rct/PubMed_20k_RCT_numbers_replaced_with_at_sign/train.txt']"
      ]
     },
     "execution_count": 6,
     "metadata": {},
     "output_type": "execute_result"
    }
   ],
   "source": [
    "# Check all of the filenames in the target directory\n",
    "filenames = [data_dir + filename for filename in os.listdir(data_dir)]\n",
    "filenames"
   ]
  },
  {
   "cell_type": "markdown",
   "id": "7da67692-f314-4042-9bc4-7cf05a7fd164",
   "metadata": {},
   "source": [
    "## Preprocess Data\n",
    "\n",
    "Writing a function to read in all of the lines of a target text file."
   ]
  },
  {
   "cell_type": "code",
   "execution_count": 7,
   "id": "19e44972-999c-4c30-bd21-0ade39bf526e",
   "metadata": {},
   "outputs": [],
   "source": [
    "# Create a funtion to read the lines of the document\n",
    "def get_lines(filename):\n",
    "    \"\"\"\n",
    "    Reads filename (a text filename) and returns the lines of the text as a list.\n",
    "    \n",
    "    Args:\n",
    "        filename: a string containing the target filepath\n",
    "        \n",
    "    Returns:\n",
    "        A list of strings with one string per line from the target filename.\n",
    "    \"\"\"\n",
    "    with open(filename, 'r') as f:\n",
    "        return f.readlines()    "
   ]
  },
  {
   "cell_type": "code",
   "execution_count": 8,
   "id": "e5294fd9-03c5-403c-9308-f05e9dcd6c97",
   "metadata": {
    "tags": []
   },
   "outputs": [
    {
     "data": {
      "text/plain": [
       "['###24293578\\n',\n",
       " 'OBJECTIVE\\tTo investigate the efficacy of @ weeks of daily low-dose oral prednisolone in improving pain , mobility , and systemic low-grade inflammation in the short term and whether the effect would be sustained at @ weeks in older adults with moderate to severe knee osteoarthritis ( OA ) .\\n',\n",
       " 'METHODS\\tA total of @ patients with primary knee OA were randomized @:@ ; @ received @ mg/day of prednisolone and @ received placebo for @ weeks .\\n',\n",
       " 'METHODS\\tOutcome measures included pain reduction and improvement in function scores and systemic inflammation markers .\\n',\n",
       " 'METHODS\\tPain was assessed using the visual analog pain scale ( @-@ mm ) .\\n',\n",
       " 'METHODS\\tSecondary outcome measures included the Western Ontario and McMaster Universities Osteoarthritis Index scores , patient global assessment ( PGA ) of the severity of knee OA , and @-min walk distance ( @MWD ) .\\n',\n",
       " 'METHODS\\tSerum levels of interleukin @ ( IL-@ ) , IL-@ , tumor necrosis factor ( TNF ) - , and high-sensitivity C-reactive protein ( hsCRP ) were measured .\\n',\n",
       " 'RESULTS\\tThere was a clinically relevant reduction in the intervention group compared to the placebo group for knee pain , physical function , PGA , and @MWD at @ weeks .\\n',\n",
       " 'RESULTS\\tThe mean difference between treatment arms ( @ % CI ) was @ ( @-@ @ ) , p < @ ; @ ( @-@ @ ) , p < @ ; @ ( @-@ @ ) , p < @ ; and @ ( @-@ @ ) , p < @ , respectively .\\n',\n",
       " 'RESULTS\\tFurther , there was a clinically relevant reduction in the serum levels of IL-@ , IL-@ , TNF - , and hsCRP at @ weeks in the intervention group when compared to the placebo group .\\n',\n",
       " 'RESULTS\\tThese differences remained significant at @ weeks .\\n',\n",
       " 'RESULTS\\tThe Outcome Measures in Rheumatology Clinical Trials-Osteoarthritis Research Society International responder rate was @ % in the intervention group and @ % in the placebo group ( p < @ ) .\\n',\n",
       " 'CONCLUSIONS\\tLow-dose oral prednisolone had both a short-term and a longer sustained effect resulting in less knee pain , better physical function , and attenuation of systemic inflammation in older patients with knee OA ( ClinicalTrials.gov identifier NCT@ ) .\\n',\n",
       " '\\n',\n",
       " '###24854809\\n',\n",
       " 'BACKGROUND\\tEmotional eating is associated with overeating and the development of obesity .\\n',\n",
       " 'BACKGROUND\\tYet , empirical evidence for individual ( trait ) differences in emotional eating and cognitive mechanisms that contribute to eating during sad mood remain equivocal .\\n',\n",
       " 'OBJECTIVE\\tThe aim of this study was to test if attention bias for food moderates the effect of self-reported emotional eating during sad mood ( vs neutral mood ) on actual food intake .\\n',\n",
       " 'OBJECTIVE\\tIt was expected that emotional eating is predictive of elevated attention for food and higher food intake after an experimentally induced sad mood and that attentional maintenance on food predicts food intake during a sad versus a neutral mood .\\n',\n",
       " 'METHODS\\tParticipants ( N = @ ) were randomly assigned to one of the two experimental mood induction conditions ( sad/neutral ) .\\n']"
      ]
     },
     "execution_count": 8,
     "metadata": {},
     "output_type": "execute_result"
    }
   ],
   "source": [
    "# Reading the training lines\n",
    "train_lines = get_lines(data_dir+'train.txt')\n",
    "train_lines[:20]"
   ]
  },
  {
   "cell_type": "markdown",
   "id": "c93d6c6b-3700-4b2d-a14c-39dd9d514d2a",
   "metadata": {},
   "source": [
    "> Writing a function which turns each of our datasets into a dictionary format."
   ]
  },
  {
   "cell_type": "code",
   "execution_count": 9,
   "id": "46ae16ba-cd00-41c7-a983-a966a0db0293",
   "metadata": {},
   "outputs": [],
   "source": [
    "def preprocess_text_with_line_numbers(filename):\n",
    "    \"\"\"\n",
    "    Returns a list of dictionaries of abstract line data.\n",
    "    \n",
    "    Takes in filename, reads its contents and sorts through each line, extracting\n",
    "    things like the target label, the text of the sentence, how many sentences are\n",
    "    in the current abstract and what sentence number the target line is.\n",
    "    \"\"\"\n",
    "    \n",
    "    input_lines = get_lines(filename) # get all lines from filename\n",
    "    abstract_lines = '' # create an empty abstract\n",
    "    abstract_samples = [] # create an empty list of abstracts\n",
    "    \n",
    "    # loop through each line in the target file\n",
    "    for line in input_lines:\n",
    "        if line.startswith('###'): # check to see if the line is and ID line\n",
    "            abstract_id = line\n",
    "            abstract_lines = '' # reset the abstract string if the line is an ID line\n",
    "            \n",
    "        elif line.isspace(): # check to see if line is a new line or empty space\n",
    "            abstract_line_split = abstract_lines.splitlines() # split abstract into separate lines\n",
    "            \n",
    "            # iterate through each line in a single abstract and count them at the same time\n",
    "            for abstract_line_number, abstract_line in enumerate(abstract_line_split):\n",
    "                line_data = {} # create and empty dictionary for each line\n",
    "                target_text_split = abstract_line.split('\\t') #split target label from text\n",
    "                line_data['target'] = target_text_split[0] #get target label\n",
    "                line_data['text'] = target_text_split[1].lower() # get target text and lower it\n",
    "                line_data['line_number'] = abstract_line_number # what number line does the line appear in the abstract\n",
    "                line_data['total_lines'] = len(abstract_line_split) - 1 # how many total lines are there in the target abstract (start from 0)\n",
    "                abstract_samples.append(line_data) # add line data to abstract samples list\n",
    "                \n",
    "        # if the above conditions are not fulfilled, the line contains a labelled sentence\n",
    "        else:\n",
    "            abstract_lines += line\n",
    "    \n",
    "    return abstract_samples"
   ]
  },
  {
   "cell_type": "code",
   "execution_count": 10,
   "id": "0bf99522-725a-4e50-9109-a47819d69f9d",
   "metadata": {
    "scrolled": true,
    "tags": []
   },
   "outputs": [
    {
     "name": "stdout",
     "output_type": "stream",
     "text": [
      "180040 30212 30135\n",
      "Wall time: 559 ms\n"
     ]
    }
   ],
   "source": [
    "%%time \n",
    "\n",
    "# get data from file and preprocess it\n",
    "\n",
    "train_samples = preprocess_text_with_line_numbers(data_dir+'train.txt')\n",
    "val_samples = preprocess_text_with_line_numbers(data_dir+'dev.txt') # dev is another name for val\n",
    "test_samples = preprocess_text_with_line_numbers(data_dir+'test.txt')\n",
    "print(len(train_samples), len(val_samples), len(test_samples))"
   ]
  },
  {
   "cell_type": "code",
   "execution_count": 11,
   "id": "854fd5e2-07dc-41c0-9a81-bf967742e2e2",
   "metadata": {},
   "outputs": [
    {
     "data": {
      "text/plain": [
       "[{'target': 'OBJECTIVE',\n",
       "  'text': 'to investigate the efficacy of @ weeks of daily low-dose oral prednisolone in improving pain , mobility , and systemic low-grade inflammation in the short term and whether the effect would be sustained at @ weeks in older adults with moderate to severe knee osteoarthritis ( oa ) .',\n",
       "  'line_number': 0,\n",
       "  'total_lines': 11},\n",
       " {'target': 'METHODS',\n",
       "  'text': 'a total of @ patients with primary knee oa were randomized @:@ ; @ received @ mg/day of prednisolone and @ received placebo for @ weeks .',\n",
       "  'line_number': 1,\n",
       "  'total_lines': 11},\n",
       " {'target': 'METHODS',\n",
       "  'text': 'outcome measures included pain reduction and improvement in function scores and systemic inflammation markers .',\n",
       "  'line_number': 2,\n",
       "  'total_lines': 11}]"
      ]
     },
     "execution_count": 11,
     "metadata": {},
     "output_type": "execute_result"
    }
   ],
   "source": [
    "# check the first abstract of the training data\n",
    "train_samples[:3]"
   ]
  },
  {
   "cell_type": "markdown",
   "id": "2cfcba80-cdd4-4af6-b152-cc559ffcb138",
   "metadata": {},
   "source": [
    "Data in Dictionary format. Let's turn it into DataFrame"
   ]
  },
  {
   "cell_type": "code",
   "execution_count": 12,
   "id": "ef2348e1-ca91-4862-a648-847b5158ab5d",
   "metadata": {},
   "outputs": [
    {
     "data": {
      "text/html": [
       "<div>\n",
       "<style scoped>\n",
       "    .dataframe tbody tr th:only-of-type {\n",
       "        vertical-align: middle;\n",
       "    }\n",
       "\n",
       "    .dataframe tbody tr th {\n",
       "        vertical-align: top;\n",
       "    }\n",
       "\n",
       "    .dataframe thead th {\n",
       "        text-align: right;\n",
       "    }\n",
       "</style>\n",
       "<table border=\"1\" class=\"dataframe\">\n",
       "  <thead>\n",
       "    <tr style=\"text-align: right;\">\n",
       "      <th></th>\n",
       "      <th>target</th>\n",
       "      <th>text</th>\n",
       "      <th>line_number</th>\n",
       "      <th>total_lines</th>\n",
       "    </tr>\n",
       "  </thead>\n",
       "  <tbody>\n",
       "    <tr>\n",
       "      <th>0</th>\n",
       "      <td>OBJECTIVE</td>\n",
       "      <td>to investigate the efficacy of @ weeks of dail...</td>\n",
       "      <td>0</td>\n",
       "      <td>11</td>\n",
       "    </tr>\n",
       "    <tr>\n",
       "      <th>1</th>\n",
       "      <td>METHODS</td>\n",
       "      <td>a total of @ patients with primary knee oa wer...</td>\n",
       "      <td>1</td>\n",
       "      <td>11</td>\n",
       "    </tr>\n",
       "    <tr>\n",
       "      <th>2</th>\n",
       "      <td>METHODS</td>\n",
       "      <td>outcome measures included pain reduction and i...</td>\n",
       "      <td>2</td>\n",
       "      <td>11</td>\n",
       "    </tr>\n",
       "    <tr>\n",
       "      <th>3</th>\n",
       "      <td>METHODS</td>\n",
       "      <td>pain was assessed using the visual analog pain...</td>\n",
       "      <td>3</td>\n",
       "      <td>11</td>\n",
       "    </tr>\n",
       "    <tr>\n",
       "      <th>4</th>\n",
       "      <td>METHODS</td>\n",
       "      <td>secondary outcome measures included the wester...</td>\n",
       "      <td>4</td>\n",
       "      <td>11</td>\n",
       "    </tr>\n",
       "    <tr>\n",
       "      <th>5</th>\n",
       "      <td>METHODS</td>\n",
       "      <td>serum levels of interleukin @ ( il-@ ) , il-@ ...</td>\n",
       "      <td>5</td>\n",
       "      <td>11</td>\n",
       "    </tr>\n",
       "    <tr>\n",
       "      <th>6</th>\n",
       "      <td>RESULTS</td>\n",
       "      <td>there was a clinically relevant reduction in t...</td>\n",
       "      <td>6</td>\n",
       "      <td>11</td>\n",
       "    </tr>\n",
       "    <tr>\n",
       "      <th>7</th>\n",
       "      <td>RESULTS</td>\n",
       "      <td>the mean difference between treatment arms ( @...</td>\n",
       "      <td>7</td>\n",
       "      <td>11</td>\n",
       "    </tr>\n",
       "    <tr>\n",
       "      <th>8</th>\n",
       "      <td>RESULTS</td>\n",
       "      <td>further , there was a clinically relevant redu...</td>\n",
       "      <td>8</td>\n",
       "      <td>11</td>\n",
       "    </tr>\n",
       "    <tr>\n",
       "      <th>9</th>\n",
       "      <td>RESULTS</td>\n",
       "      <td>these differences remained significant at @ we...</td>\n",
       "      <td>9</td>\n",
       "      <td>11</td>\n",
       "    </tr>\n",
       "    <tr>\n",
       "      <th>10</th>\n",
       "      <td>RESULTS</td>\n",
       "      <td>the outcome measures in rheumatology clinical ...</td>\n",
       "      <td>10</td>\n",
       "      <td>11</td>\n",
       "    </tr>\n",
       "    <tr>\n",
       "      <th>11</th>\n",
       "      <td>CONCLUSIONS</td>\n",
       "      <td>low-dose oral prednisolone had both a short-te...</td>\n",
       "      <td>11</td>\n",
       "      <td>11</td>\n",
       "    </tr>\n",
       "    <tr>\n",
       "      <th>12</th>\n",
       "      <td>BACKGROUND</td>\n",
       "      <td>emotional eating is associated with overeating...</td>\n",
       "      <td>0</td>\n",
       "      <td>10</td>\n",
       "    </tr>\n",
       "    <tr>\n",
       "      <th>13</th>\n",
       "      <td>BACKGROUND</td>\n",
       "      <td>yet , empirical evidence for individual ( trai...</td>\n",
       "      <td>1</td>\n",
       "      <td>10</td>\n",
       "    </tr>\n",
       "    <tr>\n",
       "      <th>14</th>\n",
       "      <td>OBJECTIVE</td>\n",
       "      <td>the aim of this study was to test if attention...</td>\n",
       "      <td>2</td>\n",
       "      <td>10</td>\n",
       "    </tr>\n",
       "  </tbody>\n",
       "</table>\n",
       "</div>"
      ],
      "text/plain": [
       "         target                                               text  \\\n",
       "0     OBJECTIVE  to investigate the efficacy of @ weeks of dail...   \n",
       "1       METHODS  a total of @ patients with primary knee oa wer...   \n",
       "2       METHODS  outcome measures included pain reduction and i...   \n",
       "3       METHODS  pain was assessed using the visual analog pain...   \n",
       "4       METHODS  secondary outcome measures included the wester...   \n",
       "5       METHODS  serum levels of interleukin @ ( il-@ ) , il-@ ...   \n",
       "6       RESULTS  there was a clinically relevant reduction in t...   \n",
       "7       RESULTS  the mean difference between treatment arms ( @...   \n",
       "8       RESULTS  further , there was a clinically relevant redu...   \n",
       "9       RESULTS  these differences remained significant at @ we...   \n",
       "10      RESULTS  the outcome measures in rheumatology clinical ...   \n",
       "11  CONCLUSIONS  low-dose oral prednisolone had both a short-te...   \n",
       "12   BACKGROUND  emotional eating is associated with overeating...   \n",
       "13   BACKGROUND  yet , empirical evidence for individual ( trai...   \n",
       "14    OBJECTIVE  the aim of this study was to test if attention...   \n",
       "\n",
       "    line_number  total_lines  \n",
       "0             0           11  \n",
       "1             1           11  \n",
       "2             2           11  \n",
       "3             3           11  \n",
       "4             4           11  \n",
       "5             5           11  \n",
       "6             6           11  \n",
       "7             7           11  \n",
       "8             8           11  \n",
       "9             9           11  \n",
       "10           10           11  \n",
       "11           11           11  \n",
       "12            0           10  \n",
       "13            1           10  \n",
       "14            2           10  "
      ]
     },
     "execution_count": 12,
     "metadata": {},
     "output_type": "execute_result"
    }
   ],
   "source": [
    "train_df = pd.DataFrame(train_samples)\n",
    "val_df = pd.DataFrame(val_samples)\n",
    "test_df = pd.DataFrame(test_samples)\n",
    "train_df.head(15)"
   ]
  },
  {
   "cell_type": "code",
   "execution_count": 13,
   "id": "7cfaeb52-471e-448a-8a17-f70003e78492",
   "metadata": {},
   "outputs": [
    {
     "data": {
      "text/plain": [
       "METHODS        59353\n",
       "RESULTS        57953\n",
       "CONCLUSIONS    27168\n",
       "BACKGROUND     21727\n",
       "OBJECTIVE      13839\n",
       "Name: target, dtype: int64"
      ]
     },
     "execution_count": 13,
     "metadata": {},
     "output_type": "execute_result"
    }
   ],
   "source": [
    "# Distribution of labels in training data\n",
    "train_df.target.value_counts()"
   ]
  },
  {
   "cell_type": "code",
   "execution_count": 14,
   "id": "130989cc-03a4-41d3-a291-1c0bde300d11",
   "metadata": {},
   "outputs": [
    {
     "data": {
      "text/plain": [
       "<AxesSubplot:ylabel='Frequency'>"
      ]
     },
     "execution_count": 14,
     "metadata": {},
     "output_type": "execute_result"
    },
    {
     "data": {
      "image/png": "[encoded data removed]",
      "text/plain": [
       "<Figure size 432x288 with 1 Axes>"
      ]
     },
     "metadata": {
      "needs_background": "light"
     },
     "output_type": "display_data"
    }
   ],
   "source": [
    "# Length of differente lines\n",
    "train_df.total_lines.plot.hist()"
   ]
  },
  {
   "cell_type": "markdown",
   "id": "3c6f204f-cfe3-4a5a-8f65-f5ecbfd3d13c",
   "metadata": {},
   "source": [
    "### Get a list of sentences"
   ]
  },
  {
   "cell_type": "code",
   "execution_count": 15,
   "id": "81a6df0f-656b-4a2a-bf8c-5d6b79d820b6",
   "metadata": {},
   "outputs": [
    {
     "data": {
      "text/plain": [
       "(180040, 30212, 30135)"
      ]
     },
     "execution_count": 15,
     "metadata": {},
     "output_type": "execute_result"
    }
   ],
   "source": [
    "# Convert abstract text lines into lists\n",
    "train_sentences = train_df['text'].tolist()\n",
    "val_sentences = val_df['text'].tolist()\n",
    "test_sentences = test_df['text'].tolist()\n",
    "len(train_sentences), len(val_sentences), len(test_sentences)"
   ]
  },
  {
   "cell_type": "code",
   "execution_count": 16,
   "id": "27033844-b77f-49d3-8a64-064a66ba6bb4",
   "metadata": {},
   "outputs": [
    {
     "data": {
      "text/plain": [
       "['to investigate the efficacy of @ weeks of daily low-dose oral prednisolone in improving pain , mobility , and systemic low-grade inflammation in the short term and whether the effect would be sustained at @ weeks in older adults with moderate to severe knee osteoarthritis ( oa ) .',\n",
       " 'a total of @ patients with primary knee oa were randomized @:@ ; @ received @ mg/day of prednisolone and @ received placebo for @ weeks .',\n",
       " 'outcome measures included pain reduction and improvement in function scores and systemic inflammation markers .',\n",
       " 'pain was assessed using the visual analog pain scale ( @-@ mm ) .',\n",
       " 'secondary outcome measures included the western ontario and mcmaster universities osteoarthritis index scores , patient global assessment ( pga ) of the severity of knee oa , and @-min walk distance ( @mwd ) .',\n",
       " 'serum levels of interleukin @ ( il-@ ) , il-@ , tumor necrosis factor ( tnf ) - , and high-sensitivity c-reactive protein ( hscrp ) were measured .',\n",
       " 'there was a clinically relevant reduction in the intervention group compared to the placebo group for knee pain , physical function , pga , and @mwd at @ weeks .',\n",
       " 'the mean difference between treatment arms ( @ % ci ) was @ ( @-@ @ ) , p < @ ; @ ( @-@ @ ) , p < @ ; @ ( @-@ @ ) , p < @ ; and @ ( @-@ @ ) , p < @ , respectively .']"
      ]
     },
     "execution_count": 16,
     "metadata": {},
     "output_type": "execute_result"
    }
   ],
   "source": [
    "# First 8 training sentences\n",
    "train_sentences[:8]"
   ]
  },
  {
   "cell_type": "markdown",
   "id": "94d57232-117f-4fec-915d-4d96685044bc",
   "metadata": {},
   "source": [
    "## Labelling Target "
   ]
  },
  {
   "cell_type": "code",
   "execution_count": 17,
   "id": "e98185cb-ade8-4c72-8bf2-5e8312556077",
   "metadata": {},
   "outputs": [
    {
     "data": {
      "text/plain": [
       "array([[0., 0., 0., 1., 0.],\n",
       "       [0., 0., 1., 0., 0.],\n",
       "       [0., 0., 1., 0., 0.],\n",
       "       ...,\n",
       "       [0., 0., 0., 0., 1.],\n",
       "       [0., 1., 0., 0., 0.],\n",
       "       [0., 1., 0., 0., 0.]])"
      ]
     },
     "execution_count": 17,
     "metadata": {},
     "output_type": "execute_result"
    }
   ],
   "source": [
    "# one hot encode labels\n",
    "from sklearn.preprocessing import OneHotEncoder\n",
    "ohe = OneHotEncoder(sparse=False) # tensorflow is incompatible with sparse matrix datatype\n",
    "train_labels_ohe = ohe.fit_transform(train_df['target'].to_numpy().reshape(-1,1))\n",
    "val_labels_ohe = ohe.transform(val_df['target'].to_numpy().reshape(-1,1))\n",
    "test_labels_ohe = ohe.transform(test_df['target'].to_numpy().reshape(-1,1))\n",
    "\n",
    "# checking training labels\n",
    "train_labels_ohe"
   ]
  },
  {
   "cell_type": "markdown",
   "id": "01720b7e-1fdc-4afc-b64b-fa38c426ee15",
   "metadata": {},
   "source": [
    "### Label Encode"
   ]
  },
  {
   "cell_type": "code",
   "execution_count": 18,
   "id": "6032c6dd-116c-46f8-8dd4-0a9caae413f0",
   "metadata": {},
   "outputs": [
    {
     "data": {
      "text/plain": [
       "array([3, 2, 2, ..., 4, 1, 1])"
      ]
     },
     "execution_count": 18,
     "metadata": {},
     "output_type": "execute_result"
    }
   ],
   "source": [
    "# Extract labels ('target') and encode them into integers\n",
    "from sklearn.preprocessing import LabelEncoder\n",
    "label_encoder = LabelEncoder()\n",
    "train_labels_enc = label_encoder.fit_transform(train_df['target'].to_numpy())\n",
    "val_labels_enc = label_encoder.transform(val_df['target'].to_numpy())\n",
    "test_labels_enc = label_encoder.transform(test_df['target'].to_numpy())\n",
    "\n",
    "# checking training labels\n",
    "train_labels_enc"
   ]
  },
  {
   "cell_type": "code",
   "execution_count": 19,
   "id": "af1581d9-febb-441e-bcfa-134b37c0fb6e",
   "metadata": {},
   "outputs": [
    {
     "data": {
      "text/plain": [
       "(5,\n",
       " array(['BACKGROUND', 'CONCLUSIONS', 'METHODS', 'OBJECTIVE', 'RESULTS'],\n",
       "       dtype=object))"
      ]
     },
     "execution_count": 19,
     "metadata": {},
     "output_type": "execute_result"
    }
   ],
   "source": [
    "# Getting class names and number of classes from LabelEncoder instance\n",
    "num_classes = len(label_encoder.classes_)\n",
    "class_names = label_encoder.classes_\n",
    "num_classes, class_names"
   ]
  },
  {
   "cell_type": "markdown",
   "id": "d1ea2a8a-157a-4096-87bd-199f8e2e1e0c",
   "metadata": {},
   "source": [
    "## Creating a Series of Model Experiments\n",
    "\n",
    "Trying a few different models and watching their behaviour.\n",
    "\n",
    "> Tip: [Chris Albon](https://chrisalbon.com/)"
   ]
  },
  {
   "cell_type": "markdown",
   "id": "a80840e4-d113-4ace-a9ee-72085b7aa41d",
   "metadata": {},
   "source": [
    "## Model 0: Getting a baseline "
   ]
  },
  {
   "cell_type": "code",
   "execution_count": 20,
   "id": "54859e17-5f54-4b98-b711-b02ef37ccc02",
   "metadata": {},
   "outputs": [
    {
     "data": {
      "text/plain": [
       "Pipeline(steps=[('tf-idf', TfidfVectorizer()), ('clf', MultinomialNB())])"
      ]
     },
     "execution_count": 20,
     "metadata": {},
     "output_type": "execute_result"
    }
   ],
   "source": [
    "# TF-IDF multinomial Naive Bayes model\n",
    "from sklearn.feature_extraction.text import TfidfVectorizer\n",
    "from sklearn.naive_bayes import MultinomialNB\n",
    "from sklearn.pipeline import Pipeline\n",
    "\n",
    "# Creating a pipeline\n",
    "## usually multinomialnb accepts label encoding\n",
    "model_0 = Pipeline([\n",
    "    ('tf-idf', TfidfVectorizer()),\n",
    "    ('clf', MultinomialNB())\n",
    "])\n",
    "\n",
    "# Fit the pipeline to the training data\n",
    "model_0.fit(X=train_sentences, y=train_labels_enc)"
   ]
  },
  {
   "cell_type": "code",
   "execution_count": 21,
   "id": "6db14b54-92ed-436b-9be9-ca5f47934606",
   "metadata": {},
   "outputs": [
    {
     "data": {
      "text/plain": [
       "0.7218323844829869"
      ]
     },
     "execution_count": 21,
     "metadata": {},
     "output_type": "execute_result"
    }
   ],
   "source": [
    "# Evaluate baseline on validation dataset\n",
    "model_0.score(X=val_sentences, y=val_labels_enc)"
   ]
  },
  {
   "cell_type": "code",
   "execution_count": 22,
   "id": "c38a9ebe-82f2-47af-b96f-1b90cdc802be",
   "metadata": {},
   "outputs": [
    {
     "data": {
      "text/plain": [
       "array([4, 1, 3, ..., 4, 4, 1])"
      ]
     },
     "execution_count": 22,
     "metadata": {},
     "output_type": "execute_result"
    }
   ],
   "source": [
    "# Making Predictions\n",
    "baseline_preds = model_0.predict(val_sentences)\n",
    "baseline_preds"
   ]
  },
  {
   "cell_type": "code",
   "execution_count": 25,
   "id": "7ee5e8d1-9a3d-4771-819a-2d2610965148",
   "metadata": {},
   "outputs": [
    {
     "data": {
      "text/plain": [
       "{'accuracy': 72.1832384482987,\n",
       " 'precision': 0.7186466952323352,\n",
       " 'recall': 0.7218323844829869,\n",
       " 'f1': 0.6989250353450294}"
      ]
     },
     "execution_count": 25,
     "metadata": {},
     "output_type": "execute_result"
    }
   ],
   "source": [
    "# Getting baseline results\n",
    "baseline_results = help_me.calculate_results(val_labels_enc, baseline_preds)\n",
    "baseline_results"
   ]
  },
  {
   "cell_type": "markdown",
   "id": "70bcbdec-83ef-44b6-bda9-3aed9def9d35",
   "metadata": {},
   "source": [
    "### Preparing the data (text) for deep sequence models\n",
    "\n",
    "`vectorization` and `embedding_layers`"
   ]
  },
  {
   "cell_type": "code",
   "execution_count": 27,
   "id": "9cffb44e-4be2-4590-86d2-f8555378d1a8",
   "metadata": {},
   "outputs": [
    {
     "data": {
      "text/plain": [
       "26.338269273494777"
      ]
     },
     "execution_count": 27,
     "metadata": {},
     "output_type": "execute_result"
    }
   ],
   "source": [
    "# measuring sentence length\n",
    "sent_len = [len(sentence.split()) for sentence in train_sentences]\n",
    "avg_sent_len = np.mean(sent_len)\n",
    "avg_sent_len # average sentenc length"
   ]
  },
  {
   "cell_type": "code",
   "execution_count": 29,
   "id": "2e167444-c408-4a0c-9b1d-39280160b9fb",
   "metadata": {},
   "outputs": [
    {
     "data": {
      "image/png": "[encoded data removed]",
      "text/plain": [
       "<Figure size 432x288 with 1 Axes>"
      ]
     },
     "metadata": {
      "needs_background": "light"
     },
     "output_type": "display_data"
    }
   ],
   "source": [
    "# Evualitng distribution of sentences' lengths\n",
    "plt.hist(sent_len, bins=20);"
   ]
  },
  {
   "cell_type": "code",
   "execution_count": 32,
   "id": "23200ced-8d86-4bea-b5b5-176aab19ce30",
   "metadata": {},
   "outputs": [
    {
     "name": "stdout",
     "output_type": "stream",
     "text": [
      "95% of the sentences has until 55 tokens - Max length: 296\n"
     ]
    }
   ],
   "source": [
    "# where do the 95% of the lengths reaches?\n",
    "output_seq_len = int(np.percentile(sent_len, 95))\n",
    "\n",
    "# max sentence\n",
    "max_sent = max(sent_len)\n",
    "print(f'95% of the sentences has until {output_seq_len} tokens - Max length: {max_sent}')"
   ]
  },
  {
   "cell_type": "markdown",
   "id": "ce1504b3-3d3f-4a7e-a20f-c251a29a6326",
   "metadata": {},
   "source": [
    "### Text Vectorizer Layer"
   ]
  },
  {
   "cell_type": "code",
   "execution_count": 33,
   "id": "e3f84c64-b945-4f64-8af6-ae6475b74a09",
   "metadata": {},
   "outputs": [],
   "source": [
    "# according to the paper, there are ~68k tokens\n",
    "max_tokens = 68000\n",
    "\n",
    "# Creating vectorizer\n",
    "text_vectorizer = layers.TextVectorization(max_tokens=max_tokens, output_sequence_length=55)\n",
    "\n",
    "# adapting text vectorizer to training sentences\n",
    "text_vectorizer.adapt(train_sentences)"
   ]
  },
  {
   "cell_type": "code",
   "execution_count": 42,
   "id": "b2e6ea6b-156e-4793-90d7-950564a336c3",
   "metadata": {},
   "outputs": [
    {
     "name": "stdout",
     "output_type": "stream",
     "text": [
      "Text:\n",
      "in the remaining period , the proportion was greater in the toric iol group .\n",
      "\n",
      "Length of the Text: 15\n",
      "\n",
      "Vectorized text: [[   5    2 2165  173    2  443   10  182    5    2 4134 1553   13    0\n",
      "     0    0    0    0    0    0    0    0    0    0    0    0    0    0\n",
      "     0    0    0    0    0    0    0    0    0    0    0    0    0    0\n",
      "     0    0    0    0    0    0    0    0    0    0    0    0    0]]\n"
     ]
    }
   ],
   "source": [
    "# test out text vectorizer\n",
    "rand_sentence = random.choice(train_sentences)\n",
    "print(f'Text:\\n{rand_sentence}')\n",
    "print(f'\\nLength of the Text: {len(rand_sentence.split())}')\n",
    "print(f'\\nVectorized text: {text_vectorizer([rand_sentence])}')"
   ]
  },
  {
   "cell_type": "code",
   "execution_count": 35,
   "id": "e81aa78c-a61b-4867-a8b1-75bdbb6f46b6",
   "metadata": {},
   "outputs": [
    {
     "name": "stdout",
     "output_type": "stream",
     "text": [
      "Number of words in vocabulary: 64841\n",
      "Most common words in the vocabulary: ['', '[UNK]', 'the', 'and', 'of']\n",
      "Least common words in the vocabulary: ['aainduced', 'aaigroup', 'aachener', 'aachen', 'aaacp']\n"
     ]
    }
   ],
   "source": [
    "# checking more informations on training data\n",
    "rct_20k_text_vocab = text_vectorizer.get_vocabulary()\n",
    "print(f'Number of words in vocabulary: {len(rct_20k_text_vocab)}')\n",
    "print(f'Most common words in the vocabulary: {rct_20k_text_vocab[:5]}')\n",
    "print(f'Least common words in the vocabulary: {rct_20k_text_vocab[-5:]}')"
   ]
  },
  {
   "cell_type": "code",
   "execution_count": 36,
   "id": "965edd4a-ca37-4ef2-a869-10500b89e87e",
   "metadata": {},
   "outputs": [
    {
     "data": {
      "text/plain": [
       "{'name': 'text_vectorization',\n",
       " 'trainable': True,\n",
       " 'batch_input_shape': (None,),\n",
       " 'dtype': 'string',\n",
       " 'max_tokens': 68000,\n",
       " 'standardize': 'lower_and_strip_punctuation',\n",
       " 'split': 'whitespace',\n",
       " 'ngrams': None,\n",
       " 'output_mode': 'int',\n",
       " 'output_sequence_length': 55,\n",
       " 'pad_to_max_tokens': False,\n",
       " 'sparse': False,\n",
       " 'ragged': False,\n",
       " 'vocabulary': None,\n",
       " 'idf_weights': None}"
      ]
     },
     "execution_count": 36,
     "metadata": {},
     "output_type": "execute_result"
    }
   ],
   "source": [
    "# general configurations of the vectorizer\n",
    "text_vectorizer.get_config()"
   ]
  },
  {
   "cell_type": "markdown",
   "id": "b18ef269-aa33-42a7-85d3-f5bdcfdb0be8",
   "metadata": {},
   "source": [
    "### Creating Text Embedding"
   ]
  },
  {
   "cell_type": "code",
   "execution_count": 45,
   "id": "665c2532-54b7-4bf0-9f0e-c1ccce3032b0",
   "metadata": {},
   "outputs": [
    {
     "name": "stdout",
     "output_type": "stream",
     "text": [
      "Sentence before vectorization:\n",
      "in the remaining period , the proportion was greater in the toric iol group .\n",
      "\n",
      "Sentence after vectorization (before embedding):\n",
      "[   5    2 2165  173    2  443   10  182    5    2 4134 1553   13    0\n",
      "    0    0    0    0    0    0    0    0    0    0    0    0    0    0\n",
      "    0    0    0    0    0    0    0    0    0    0    0    0    0    0\n",
      "    0    0    0    0    0    0    0    0    0    0    0    0    0]\n",
      "Sentence after embedding: [[ 0.02422137 -0.02420558  0.01866012 ...  0.04489921  0.04728759\n",
      "  -0.0229434 ]\n",
      " [ 0.01384857 -0.01301173 -0.00712528 ... -0.04676795  0.03243167\n",
      "   0.02849586]\n",
      " [-0.00131835  0.04488683  0.01315096 ... -0.0057499  -0.01110907\n",
      "   0.01018788]\n",
      " ...\n",
      " [-0.03282899  0.03668256 -0.00564703 ... -0.01970311 -0.03756158\n",
      "   0.03742751]\n",
      " [-0.03282899  0.03668256 -0.00564703 ... -0.01970311 -0.03756158\n",
      "   0.03742751]\n",
      " [-0.03282899  0.03668256 -0.00564703 ... -0.01970311 -0.03756158\n",
      "   0.03742751]]\n",
      "\n",
      "Embed sentence shape: (1, 55, 128)\n"
     ]
    }
   ],
   "source": [
    "# creating token embedding layer\n",
    "token_embed = layers.Embedding(input_dim = len(rct_20k_text_vocab), output_dim=128,\n",
    "                              mask_zero=True, name='token_embedding')\n",
    "\n",
    "# show example embedding\n",
    "print(f'Sentence before vectorization:\\n{rand_sentence}\\n')\n",
    "vec_sentence = text_vectorizer(rand_sentence)\n",
    "print(f'Sentence after vectorization (before embedding):\\n{vec_sentence}')\n",
    "embed_sentence = token_embed(vec_sentence)\n",
    "print(f'Sentence after embedding: {embed_sentence}\\n')\n",
    "print(f'Embed sentence shape: {np.expand_dims(embed_sentence,axis=0).shape}')"
   ]
  },
  {
   "cell_type": "markdown",
   "id": "f9244df3-de3a-4de4-9b47-659871360153",
   "metadata": {},
   "source": [
    "## Creating Datasets\n",
    "\n",
    "It's possible to optimize the data loading. One possible method is to turn the data into\n",
    "`PrefetchDataset`. In this way, we cam prepare the data better. \n",
    "\n",
    "Read documentation:\n",
    " * [tf.data: Build TensorFlow input pipelines](https://www.tensorflow.org/guide/data)\n",
    " * [Better performance with the tf.data API](https://www.tensorflow.org/guide/data_performance)"
   ]
  },
  {
   "cell_type": "code",
   "execution_count": 46,
   "id": "40600113-a5b4-4cc8-98a3-97f9187365fe",
   "metadata": {},
   "outputs": [
    {
     "data": {
      "text/plain": [
       "<TensorSliceDataset element_spec=(TensorSpec(shape=(), dtype=tf.string, name=None), TensorSpec(shape=(5,), dtype=tf.float64, name=None))>"
      ]
     },
     "execution_count": 46,
     "metadata": {},
     "output_type": "execute_result"
    }
   ],
   "source": [
    "# turning the data into tensorflow datasets\n",
    "train_dataset = tf.data.Dataset.from_tensor_slices((train_sentences, train_labels_ohe))\n",
    "val_dataset = tf.data.Dataset.from_tensor_slices((val_sentences, val_labels_ohe))\n",
    "test_dataset = tf.data.Dataset.from_tensor_slices((test_sentences, test_labels_ohe))\n",
    "\n",
    "train_dataset"
   ]
  },
  {
   "cell_type": "code",
   "execution_count": 47,
   "id": "c81235e9-9a39-48f3-81b5-104e449787c8",
   "metadata": {},
   "outputs": [
    {
     "data": {
      "text/plain": [
       "<PrefetchDataset element_spec=(TensorSpec(shape=(None,), dtype=tf.string, name=None), TensorSpec(shape=(None, 5), dtype=tf.float64, name=None))>"
      ]
     },
     "execution_count": 47,
     "metadata": {},
     "output_type": "execute_result"
    }
   ],
   "source": [
    "# taking the TensorSliceDataset's and turn them into prefetched batches\n",
    "train_dataset = train_dataset.batch(32).prefetch(tf.data.AUTOTUNE)\n",
    "val_dataset = val_dataset.batch(32).prefetch(tf.data.AUTOTUNE)\n",
    "test_dataset = test_dataset.batch(32).prefetch(32)\n",
    "\n",
    "train_dataset"
   ]
  },
  {
   "cell_type": "markdown",
   "id": "49ae55d8-8b90-46c4-b650-93519870302c",
   "metadata": {},
   "source": [
    "## Model 1: Conv1D with Token Embeddings\n",
    "\n",
    "Sequence to be made:\n",
    "`Input (text) -> Tokenize -> Embedding -> Layers -> Output (label probability)`"
   ]
  },
  {
   "cell_type": "code",
   "execution_count": 49,
   "id": "3b80ad30-0fcb-46fd-9cbb-28ee2bf54344",
   "metadata": {},
   "outputs": [],
   "source": [
    "# Create 1D convolutional model to process sequences\n",
    "\n",
    "inputs = layers.Input(shape=(1,), dtype=tf.string)\n",
    "text_vectors = text_vectorizer(inputs) # vectorize text inputs\n",
    "token_embeddings = token_embed(text_vectors) # create embedding\n",
    "x = layers.Conv1D(64, kernel_size = 5, padding='same', activation='relu')(token_embeddings)\n",
    "x = layers.GlobalAveragePooling1D()(x) # condense the output of our feature vector\n",
    "outputs = layers.Dense(num_classes, activation='softmax')(x)\n",
    "model_1 = tf.keras.Model(inputs, outputs, name='model_1')\n",
    "\n",
    "# compile the model\n",
    "model_1.compile(loss='categorical_crossentropy', optimizer=tf.keras.optimizers.Adam(), metrics=['accuracy'])"
   ]
  },
  {
   "cell_type": "code",
   "execution_count": 50,
   "id": "e20ffa16-49d8-4670-81bc-91e11c650c47",
   "metadata": {},
   "outputs": [
    {
     "name": "stdout",
     "output_type": "stream",
     "text": [
      "Model: \"model_1\"\n",
      "_________________________________________________________________\n",
      " Layer (type)                Output Shape              Param #   \n",
      "=================================================================\n",
      " input_2 (InputLayer)        [(None, 1)]               0         \n",
      "                                                                 \n",
      " text_vectorization (TextVec  (None, 55)               0         \n",
      " torization)                                                     \n",
      "                                                                 \n",
      " token_embedding (Embedding)  (None, 55, 128)          8299648   \n",
      "                                                                 \n",
      " conv1d (Conv1D)             (None, 55, 64)            41024     \n",
      "                                                                 \n",
      " global_average_pooling1d (G  (None, 64)               0         \n",
      " lobalAveragePooling1D)                                          \n",
      "                                                                 \n",
      " dense (Dense)               (None, 5)                 325       \n",
      "                                                                 \n",
      "=================================================================\n",
      "Total params: 8,340,997\n",
      "Trainable params: 8,340,997\n",
      "Non-trainable params: 0\n",
      "_________________________________________________________________\n"
     ]
    }
   ],
   "source": [
    "# get summary\n",
    "model_1.summary()"
   ]
  },
  {
   "cell_type": "code",
   "execution_count": 52,
   "id": "1b5033dd-71ba-4500-b4e7-201d281c641f",
   "metadata": {},
   "outputs": [
    {
     "name": "stdout",
     "output_type": "stream",
     "text": [
      "Epoch 1/3\n",
      "1688/1688 [==============================] - 20s 11ms/step - loss: 0.4689 - accuracy: 0.8351 - val_loss: 0.5915 - val_accuracy: 0.7901\n",
      "Epoch 2/3\n",
      "1688/1688 [==============================] - 19s 11ms/step - loss: 0.5788 - accuracy: 0.7930 - val_loss: 0.5369 - val_accuracy: 0.8116\n",
      "Epoch 3/3\n",
      "1688/1688 [==============================] - 19s 11ms/step - loss: 0.5397 - accuracy: 0.8080 - val_loss: 0.5366 - val_accuracy: 0.8051\n"
     ]
    }
   ],
   "source": [
    "# fitting the data (for now only in 30% of the original data)\n",
    "## train and validate on only 30% of the data\n",
    "history_1 = model_1.fit(train_dataset, steps_per_epoch=int(0.3*len(train_dataset)), epochs=3,\n",
    "                       validation_data=val_dataset, validation_steps=int(0.3*len(val_dataset)))"
   ]
  },
  {
   "cell_type": "code",
   "execution_count": 53,
   "id": "33434c2b-6de6-4efe-ac37-fc75cb63bbd8",
   "metadata": {},
   "outputs": [
    {
     "name": "stdout",
     "output_type": "stream",
     "text": [
      "945/945 [==============================] - 4s 4ms/step - loss: 0.5368 - accuracy: 0.8075\n"
     ]
    },
    {
     "data": {
      "text/plain": [
       "[0.5368258357048035, 0.8075268268585205]"
      ]
     },
     "execution_count": 53,
     "metadata": {},
     "output_type": "execute_result"
    }
   ],
   "source": [
    "# evaluating on the whole validation dataset\n",
    "model_1.evaluate(val_dataset)"
   ]
  },
  {
   "cell_type": "code",
   "execution_count": 55,
   "id": "918d3acc-582b-4a6f-a43f-677bfcdfa021",
   "metadata": {},
   "outputs": [
    {
     "data": {
      "text/plain": [
       "array([[6.90707445e-01, 9.57161412e-02, 9.29798111e-02, 9.19058695e-02,\n",
       "        2.86906604e-02],\n",
       "       [6.71646893e-01, 1.92644969e-01, 1.56376474e-02, 1.06196553e-01,\n",
       "        1.38739049e-02],\n",
       "       [3.94774199e-01, 5.61188255e-03, 3.92274279e-03, 5.95585942e-01,\n",
       "        1.05231724e-04],\n",
       "       ...,\n",
       "       [4.96507573e-06, 4.99794915e-05, 1.69747812e-03, 6.14041255e-06,\n",
       "        9.98241425e-01],\n",
       "       [1.31124273e-01, 4.06432450e-01, 2.03278974e-01, 3.48502360e-02,\n",
       "        2.24314079e-01],\n",
       "       [6.97216690e-02, 8.90669227e-01, 3.22739817e-02, 7.11093133e-04,\n",
       "        6.62398711e-03]], dtype=float32)"
      ]
     },
     "execution_count": 55,
     "metadata": {},
     "output_type": "execute_result"
    }
   ],
   "source": [
    "# making predictions (the model outputs probabilities for each class)\n",
    "model_1_pred_probs = model_1.predict(val_dataset)\n",
    "model_1_pred_probs"
   ]
  },
  {
   "cell_type": "code",
   "execution_count": 56,
   "id": "b63fda71-3050-4e39-ba5e-ddbe2cbc4fcd",
   "metadata": {},
   "outputs": [
    {
     "data": {
      "text/plain": [
       "<tf.Tensor: shape=(30212,), dtype=int64, numpy=array([0, 0, 3, ..., 4, 1, 1], dtype=int64)>"
      ]
     },
     "execution_count": 56,
     "metadata": {},
     "output_type": "execute_result"
    }
   ],
   "source": [
    "# converting pred probabilities to classes\n",
    "model_1_pred = tf.argmax(model_1_pred_probs, axis=1)\n",
    "model_1_pred"
   ]
  },
  {
   "cell_type": "code",
   "execution_count": 57,
   "id": "8c4aa1c8-8016-433c-a947-cba26772a898",
   "metadata": {},
   "outputs": [
    {
     "data": {
      "text/plain": [
       "{'accuracy': 80.75268105388588,\n",
       " 'precision': 0.813204630252371,\n",
       " 'recall': 0.8075268105388588,\n",
       " 'f1': 0.8016843900589935}"
      ]
     },
     "execution_count": 57,
     "metadata": {},
     "output_type": "execute_result"
    }
   ],
   "source": [
    "# model_1 results\n",
    "model_1_results = help_me.calculate_results(y_true=val_labels_enc, y_pred=model_1_pred)\n",
    "model_1_results"
   ]
  },
  {
   "cell_type": "markdown",
   "id": "424c60e1-471d-49d8-bbe6-a926b55806ef",
   "metadata": {},
   "source": [
    "## Model 2: Feature Extraction w/ Pretrained Token Embeddings\n",
    "\n",
    "Using a pretrained Universal Sequence Encoder (USE) to initialize the token embeddings (pretrained embedding)."
   ]
  },
  {
   "cell_type": "code",
   "execution_count": 59,
   "id": "78f2f4d3-1f82-4d10-a236-454ec0118d5a",
   "metadata": {},
   "outputs": [],
   "source": [
    "# download pretrained tensorflow hub USE\n",
    "tf_hub_emb_layer = hub.KerasLayer(\"https://tfhub.dev/google/universal-sentence-encoder/4\",\n",
    "                                 trainable=False,\n",
    "                                 name='universal_sentence_encoder')"
   ]
  },
  {
   "cell_type": "code",
   "execution_count": 61,
   "id": "3868c3d6-3cf5-4668-9ad7-a9fb349dfbd5",
   "metadata": {},
   "outputs": [
    {
     "name": "stdout",
     "output_type": "stream",
     "text": [
      "Random Sentence:\n",
      " in the remaining period , the proportion was greater in the toric iol group .\n",
      "Sentence after embedding: [-0.06584997  0.06050936  0.04120971  0.01099056 -0.0040519  -0.0474313\n",
      "  0.0580865  -0.03127831 -0.03082419  0.08174539  0.02948102  0.03042848\n",
      "  0.0423879   0.04555092  0.01169337  0.0375018  -0.00931669 -0.05102049\n",
      "  0.06505606  0.04992852 -0.07943188  0.01194951 -0.06041338 -0.06012925\n",
      "  0.06205672  0.05446972  0.03849085  0.0652323  -0.01158352  0.05260089] (truncated output to 30).\n",
      "Length of sentence embedding: 512\n"
     ]
    }
   ],
   "source": [
    "# testing out the embedding on a random sentence\n",
    "print(f'Random Sentence:\\n {rand_sentence}')\n",
    "embed_seq = tf_hub_emb_layer([rand_sentence])\n",
    "print(f'Sentence after embedding: {embed_seq[0][:30]} (truncated output to 30).')\n",
    "print(f'Length of sentence embedding: {len(embed_seq[0])}')"
   ]
  },
  {
   "cell_type": "markdown",
   "id": "b579ee86-af37-42ef-a740-b5b16d404850",
   "metadata": {},
   "source": [
    "### Building and Fitting the Model"
   ]
  },
  {
   "cell_type": "code",
   "execution_count": null,
   "id": "f08f2411-63c1-4fe4-ad72-9afe50275481",
   "metadata": {},
   "outputs": [],
   "source": []
  }
 ],
 "metadata": {
  "kernelspec": {
   "display_name": "estudo",
   "language": "python",
   "name": "estudo"
  },
  "language_info": {
   "codemirror_mode": {
    "name": "ipython",
    "version": 3
   },
   "file_extension": ".py",
   "mimetype": "text/x-python",
   "name": "python",
   "nbconvert_exporter": "python",
   "pygments_lexer": "ipython3",
   "version": "3.7.13"
  }
 },
 "nbformat": 4,
 "nbformat_minor": 5
}
